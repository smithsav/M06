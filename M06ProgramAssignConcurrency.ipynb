{
 "cells": [
  {
   "cell_type": "markdown",
   "id": "a1b640c4-fc88-41c3-9317-eddf3b324c9a",
   "metadata": {},
   "source": [
    "# Savannah Smith\n",
    "\n",
    "# Concurrency in Python"
   ]
  },
  {
   "cell_type": "markdown",
   "id": "ad7c5b32-05be-47a2-a704-276b8ab8b4a7",
   "metadata": {},
   "source": [
    "# 13.1 \n",
    "# Write the current date as a string to the text file today.txt."
   ]
  },
  {
   "cell_type": "code",
   "execution_count": 2,
   "id": "9828d072-d500-4949-bb36-b0576255de1e",
   "metadata": {},
   "outputs": [],
   "source": [
    "from datetime import date\n",
    "\n",
    "current_date = date.today()\n",
    "\n",
    "date_string = current_date.strftime(\"%Y-%m-%d\")\n",
    "\n",
    "with open(\"today.txt\", \"w\") as file:\n",
    "    file.write(date_string)"
   ]
  },
  {
   "cell_type": "markdown",
   "id": "f38d6131-2c96-4ee7-87cc-4602174ab74a",
   "metadata": {},
   "source": [
    "# 13.2 \n",
    "# Read the text file today.txt into the string today_string."
   ]
  },
  {
   "cell_type": "code",
   "execution_count": null,
   "id": "940cafe3-5c12-4684-b106-1c992a757a9e",
   "metadata": {},
   "outputs": [],
   "source": [
    "with open(\"today.txt\", \"r\") as file:\n",
    "    today_string = file.read()\n",
    "\n",
    "print(today_string)"
   ]
  },
  {
   "cell_type": "markdown",
   "id": "668af381-937c-4834-9e16-f9110a996084",
   "metadata": {},
   "source": [
    "# 13.3 \n",
    "# Parse the date from today_string."
   ]
  },
  {
   "cell_type": "code",
   "execution_count": null,
   "id": "fcc58494-d7dd-4bde-9aec-fc25658ad24d",
   "metadata": {},
   "outputs": [],
   "source": [
    "from datetime import datetime\n",
    "\n",
    "parsed_date = datetime.strptime(today_string, \"%Y-%m-%d\")\n",
    "\n",
    "print(parsed_date)"
   ]
  },
  {
   "cell_type": "markdown",
   "id": "c04fa9bd-e500-4b6c-b590-c1d599162e12",
   "metadata": {},
   "source": [
    "# 15.1 \n",
    "# Use 'multiprocessing' to create three separate processes. Make each one wait a random number of seconds between zero and one, print the current time, and then exit."
   ]
  },
  {
   "cell_type": "code",
   "execution_count": null,
   "id": "75708fa8-b0f8-4a2d-8f7c-d4445c36d433",
   "metadata": {},
   "outputs": [],
   "source": [
    "import multiprocessing\n",
    "import time\n",
    "import random\n",
    "from datetime import datetime\n",
    "\n",
    "def print_current_time():\n",
    "    wait_time = random.random()\n",
    "    time.sleep(wait_time)\n",
    "    current_time = datetime.now()\n",
    "    print(\"Process ID:\", multiprocessing.current_process().pid, \"- Current Time:\", current_time)\n",
    "\n",
    "if __name__ == \"__main__\":\n",
    "    processes = [multiprocessing.Process(target=print_current_time) for _ in range(3)]\n",
    "    \n",
    "    for process in processes:\n",
    "        process.start()\n",
    "    \n",
    "    for process in processes:\n",
    "        process.join()"
   ]
  }
 ],
 "metadata": {
  "kernelspec": {
   "display_name": "Python 3 (ipykernel)",
   "language": "python",
   "name": "python3"
  },
  "language_info": {
   "codemirror_mode": {
    "name": "ipython",
    "version": 3
   },
   "file_extension": ".py",
   "mimetype": "text/x-python",
   "name": "python",
   "nbconvert_exporter": "python",
   "pygments_lexer": "ipython3",
   "version": "3.11.7"
  }
 },
 "nbformat": 4,
 "nbformat_minor": 5
}
